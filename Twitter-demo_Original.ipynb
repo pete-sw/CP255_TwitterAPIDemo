{
 "metadata": {
  "name": "",
  "signature": "sha256:5782bb8b0deca01e40c231b8d7322c0c6d0035dd513b9c10687df22fd19e767b"
 },
 "nbformat": 3,
 "nbformat_minor": 0,
 "worksheets": [
  {
   "cells": [
    {
     "cell_type": "markdown",
     "metadata": {},
     "source": [
      "# Downloading Geotagged Tweets\n",
      "\n",
      "Sam Maurer // DCRP PhD Student // maurer@berkeley.edu // Nov. 6, 2014 // CP 255 demo\n"
     ]
    },
    {
     "cell_type": "code",
     "collapsed": false,
     "input": [
      "from TwitterAPI import TwitterAPI\n",
      "import json"
     ],
     "language": "python",
     "metadata": {},
     "outputs": [],
     "prompt_number": 2
    },
    {
     "cell_type": "markdown",
     "metadata": {},
     "source": [
      "### First we'll open a connection to the Twitter API\n",
      "\n",
      "Replace these API key codes with your own if you have them!  \n",
      "Twitter imposes rate limits, so if the whole class uses our demo keys, some of the requests will fail."
     ]
    },
    {
     "cell_type": "code",
     "collapsed": false,
     "input": [
      "consumer_key = 'MAZ0H5ypNlPWKG4R2MUqXA'\n",
      "consumer_secret = '1n3cI3hI1iEYUnNHkdpRNX7yK5xDKKIKSLIq1Ni3TCE'\n",
      "access_token_key = '2195097679-Q9u3M1SqUrKn2MHCiTDBr8jETUeZd6FmazvGN22'\n",
      "access_token_secret = 'ljCXTUcWjCA2Nhr1GlolgxgaiertP0glrap9L2FmTxHEg'\n",
      "\n",
      "api = TwitterAPI(consumer_key, consumer_secret, access_token_key, access_token_secret)\n",
      "print 'success'"
     ],
     "language": "python",
     "metadata": {},
     "outputs": [
      {
       "output_type": "stream",
       "stream": "stdout",
       "text": [
        "success\n"
       ]
      }
     ],
     "prompt_number": 3
    },
    {
     "cell_type": "markdown",
     "metadata": {},
     "source": [
      "### Here's a simple request"
     ]
    },
    {
     "cell_type": "code",
     "collapsed": false,
     "input": [
      "# Most recent tweet from @KarlTheFog's timeline\n",
      "\n",
      "endpoint = 'statuses/user_timeline'\n",
      "params = {\n",
      "    'screen_name': 'KarlTheFog', \n",
      "    'count': 1\n",
      "}\n",
      "r = api.request(endpoint, params)\n",
      "\n",
      "for tweet in r.get_iterator():\n",
      "    print tweet['text']"
     ],
     "language": "python",
     "metadata": {},
     "outputs": [
      {
       "output_type": "stream",
       "stream": "stdout",
       "text": [
        "TGIFoggy\n"
       ]
      }
     ],
     "prompt_number": 4
    },
    {
     "cell_type": "code",
     "collapsed": false,
     "input": [
      "# What other data is there?\n",
      "\n",
      "print tweet.keys()"
     ],
     "language": "python",
     "metadata": {},
     "outputs": []
    },
    {
     "cell_type": "code",
     "collapsed": false,
     "input": [
      "# Contents of some additional fields...\n",
      "# Here are the definitions: https://dev.twitter.com/overview/api/tweets\n",
      "\n",
      "for tweet in r.get_iterator():\n",
      "    print \"Tweet      // \", tweet['text']\n",
      "    print \"Timestamp  // \", tweet['created_at']\n",
      "    print \"Retweets   // \", tweet['retweet_count']\n",
      "    print \"Favorites  // \", tweet['favorite_count']\n",
      "    print \"Geotag     // \", tweet['coordinates']\n",
      "    print \"Language   // \", tweet['lang']\n",
      "    print \"User       // \", tweet['user']['screen_name']\n",
      "    print \"Followers  // \", tweet['user']['followers_count']\n",
      "    print \"Profile    // \", tweet['user']['description']"
     ],
     "language": "python",
     "metadata": {},
     "outputs": []
    },
    {
     "cell_type": "markdown",
     "metadata": {},
     "source": [
      "### Other API endpoints allow different types of searches"
     ]
    },
    {
     "cell_type": "code",
     "collapsed": false,
     "input": [
      "# Search for public tweets about #muni\n",
      "\n",
      "endpoint = 'search/tweets'\n",
      "params = {\n",
      "    'q': '#muni', \n",
      "    'count': 5\n",
      "}\n",
      "r = api.request(endpoint, params)\n",
      "\n",
      "for tweet in r.get_iterator():\n",
      "    print tweet['text']"
     ],
     "language": "python",
     "metadata": {},
     "outputs": []
    },
    {
     "cell_type": "code",
     "collapsed": false,
     "input": [
      "# Search for public tweets in Hindi\n",
      "\n",
      "endpoint = 'search/tweets'\n",
      "params = {\n",
      "    'q': '*', \n",
      "    'lang': 'hi', \n",
      "    'count': 5\n",
      "} \n",
      "r = api.request(endpoint, params)\n",
      "\n",
      "for tweet in r.get_iterator():\n",
      "    print tweet['text']"
     ],
     "language": "python",
     "metadata": {},
     "outputs": []
    },
    {
     "cell_type": "code",
     "collapsed": false,
     "input": [
      "# Search for public tweets geotagged near the UC Berkeley campus\n",
      "\n",
      "endpoint = 'search/tweets'\n",
      "params = {\n",
      "    'q': '*', \n",
      "    'geocode': '37.873,-122.260,0.5km', \n",
      "    'count': 5\n",
      "} \n",
      "r = api.request(endpoint, params)\n",
      "\n",
      "for tweet in r.get_iterator():\n",
      "    print tweet['text']"
     ],
     "language": "python",
     "metadata": {},
     "outputs": []
    },
    {
     "cell_type": "code",
     "collapsed": false,
     "input": [
      "# Exercise: \n",
      "# 1 - Try some different search queries!\n",
      "# 2 - Try adding 'result_type':'popular' or 'result_type':'recent'\n",
      "# 3 - Display some more fields in addition to the tweet text\n",
      "\n",
      "# Here's the search documentation: https://dev.twitter.com/rest/reference/get/search/tweets\n",
      "\n"
     ],
     "language": "python",
     "metadata": {},
     "outputs": []
    },
    {
     "cell_type": "markdown",
     "metadata": {},
     "source": [
      "### You can even stream live tweets continuously "
     ]
    },
    {
     "cell_type": "code",
     "collapsed": false,
     "input": [
      "# Twitter strictly limits connections to the streaming APIs  \n",
      "# Please try this part only if you've entered your own API keys, or after class!\n",
      "\n",
      "if consumer_key == 'MAZ0H5ypNlPWKG4R2MUqXA':\n",
      "    print 'Please try this part after class or using your own API keys!'\n",
      "\n",
      "else:\n",
      "    endpoint = 'statuses/filter'\n",
      "    params = {'locations': '-180,-90,180,90'}\n",
      "    r = api.request(endpoint, params)\n",
      "    \n",
      "    tweets = r.get_iterator()\n",
      "    for i in range(15):\n",
      "        t = tweets.next()\n",
      "        print t['place']['full_name'] + ', ' + t['place']['country'] + ' // ' + t['text'], '\\n'\n",
      "        "
     ],
     "language": "python",
     "metadata": {},
     "outputs": [
      {
       "output_type": "stream",
       "stream": "stdout",
       "text": [
        "Please try this part after class or using your own API keys!\n"
       ]
      }
     ],
     "prompt_number": 6
    },
    {
     "cell_type": "markdown",
     "metadata": {},
     "source": [
      "### Here's how to save tweets to a text file"
     ]
    },
    {
     "cell_type": "code",
     "collapsed": false,
     "input": [
      "# First, run a query\n",
      "\n",
      "endpoint = 'search/tweets'\n",
      "params = {\n",
      "    'q': '#muni', \n",
      "    'geocode': '37.873,-122.260,30km',   # note we've expanded the radius\n",
      "    'count': 100\n",
      "}\n",
      "r = api.request(endpoint, params)\n",
      "\n",
      "print 'success'"
     ],
     "language": "python",
     "metadata": {},
     "outputs": []
    },
    {
     "cell_type": "code",
     "collapsed": false,
     "input": [
      "# Simple version: save one tweet to each line of a file\n",
      "\n",
      "with open('geojson/muni-tweets.json', 'wb') as f:\n",
      "    for tweet in r.get_iterator():\n",
      "         f.write(json.dumps(tweet) + '\\n')\n",
      "            \n",
      "print 'tweets saved to file'"
     ],
     "language": "python",
     "metadata": {},
     "outputs": []
    },
    {
     "cell_type": "code",
     "collapsed": false,
     "input": [
      "# But to visualize it on a map, we have to add more structure to the data\n",
      "\n",
      "geo_data = {\n",
      "    'type': 'FeatureCollection', \n",
      "    'features': []\n",
      "}\n",
      "\n",
      "for tweet in r.get_iterator():\n",
      "    if tweet['coordinates']:   # (check for coord data)\n",
      "        \n",
      "        # Each tweet is a GeoJSON \"feature\"\n",
      "        feature = {\n",
      "            'type': 'Feature', \n",
      "            'geometry': tweet['coordinates'], \n",
      "            \n",
      "            # A feature's \"properties\" become attribute columns in GIS\n",
      "            'properties': {\n",
      "                'tweet': tweet['text'], \n",
      "                'timestamp': tweet['created_at']\n",
      "            }\n",
      "        }\n",
      "        \n",
      "        # Add the feature into the GeoJSON wrapper\n",
      "        geo_data['features'].append(feature)\n",
      "\n",
      "with open('geojson/muni-tweets.geojson', 'wb') as f:\n",
      "    json.dump(geo_data, f, indent=2)\n",
      "            \n",
      "print len(geo_data['features']), 'geotagged tweets saved to file'"
     ],
     "language": "python",
     "metadata": {},
     "outputs": []
    },
    {
     "cell_type": "code",
     "collapsed": false,
     "input": [
      "# Exercise:\n",
      "# 1 - Write at least TWO different queries and save the results to GeoJSON files\n",
      "#     (geographic locations should be similar, so we can map them jointly)\n",
      "# 2 - Try opening the files in QGIS or on http://geojson.io\n",
      "\n",
      "# Advanced:\n",
      "# 3 - If you have your own API key, try streaming some tweets\n",
      "#     The format for the bounding coordinates is 'lng_min,lat_min,lng_max,lat_max'\n",
      "#     (handy site for looking up coords: http://latlong.net)\n",
      "# 4 - Try modifying my code to save the streamed tweets as a GeoJSON file\n",
      "\n"
     ],
     "language": "python",
     "metadata": {},
     "outputs": []
    },
    {
     "cell_type": "code",
     "collapsed": false,
     "input": [],
     "language": "python",
     "metadata": {},
     "outputs": []
    },
    {
     "cell_type": "code",
     "collapsed": false,
     "input": [],
     "language": "python",
     "metadata": {},
     "outputs": []
    },
    {
     "cell_type": "code",
     "collapsed": false,
     "input": [],
     "language": "python",
     "metadata": {},
     "outputs": []
    }
   ],
   "metadata": {}
  }
 ]
}